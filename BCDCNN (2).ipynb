{
  "nbformat": 4,
  "nbformat_minor": 0,
  "metadata": {
    "colab": {
      "name": "BCDCNN.ipynb",
      "version": "0.3.2",
      "provenance": [],
      "collapsed_sections": []
    },
    "kernelspec": {
      "name": "python3",
      "display_name": "Python 3"
    },
    "accelerator": "GPU"
  },
  "cells": [
    {
      "metadata": {
        "id": "SH-gbSDqjCfN",
        "colab_type": "code",
        "colab": {
          "base_uri": "https://localhost:8080/",
          "height": 35
        },
        "outputId": "4915e336-9084-4ea7-8be0-97f095463f2c"
      },
      "cell_type": "code",
      "source": [
        "import cv2\n",
        "import pickle\n",
        "import os.path\n",
        "import matplotlib.pyplot as plt\n",
        "from imutils import paths\n",
        "from sklearn.preprocessing import LabelBinarizer\n",
        "import numpy as np\n",
        "from sklearn.model_selection import train_test_split\n",
        "from keras.models import Sequential\n",
        "from keras.layers import Conv2D,Flatten,MaxPooling2D,Dense,Dropout\n",
        "from keras import backend as k\n",
        "from keras.layers.normalization import BatchNormalization\n",
        "from keras.models import model_from_json\n"
      ],
      "execution_count": 1,
      "outputs": [
        {
          "output_type": "stream",
          "text": [
            "Using TensorFlow backend.\n"
          ],
          "name": "stderr"
        }
      ]
    },
    {
      "metadata": {
        "id": "N6JHQ7Oi3wl6",
        "colab_type": "code",
        "outputId": "472949d4-3679-42be-9a6c-21fc6b5a17a7",
        "colab": {
          "base_uri": "https://localhost:8080/",
          "height": 106
        }
      },
      "cell_type": "code",
      "source": [
        "!git clone https://github.com/magus96/BCDCNN.git\n",
        "  "
      ],
      "execution_count": 2,
      "outputs": [
        {
          "output_type": "stream",
          "text": [
            "Cloning into 'BCDCNN'...\n",
            "remote: Enumerating objects: 1524, done.\u001b[K\n",
            "remote: Total 1524 (delta 0), reused 0 (delta 0), pack-reused 1524\u001b[K\n",
            "Receiving objects: 100% (1524/1524), 173.35 MiB | 33.82 MiB/s, done.\n",
            "Resolving deltas: 100% (7/7), done.\n"
          ],
          "name": "stdout"
        }
      ]
    },
    {
      "metadata": {
        "id": "gwXMggsJjWS3",
        "colab_type": "code",
        "outputId": "68d88544-aed8-475e-e813-eb7531429b4a",
        "colab": {
          "base_uri": "https://localhost:8080/",
          "height": 35
        }
      },
      "cell_type": "code",
      "source": [
        "cd '/content/BCDCNN/'\n"
      ],
      "execution_count": 3,
      "outputs": [
        {
          "output_type": "stream",
          "text": [
            "/content/BCDCNN\n"
          ],
          "name": "stdout"
        }
      ]
    },
    {
      "metadata": {
        "id": "JLWWzE2wjpJa",
        "colab_type": "code",
        "colab": {}
      },
      "cell_type": "code",
      "source": [
        "from helpers import resize_to_fit\n",
        "path='/content/BCDCNN/Dataset'\n",
        "data=[]\n",
        "labels=[]\n",
        "for image_file in paths.list_images(path):\n",
        "    image=cv2.imread(image_file)\n",
        "    image=resize_to_fit(image,128,128)\n",
        "    label=image_file.split(os.path.sep)[-2]\n",
        "    data.append(image)\n",
        "    labels.append(label)\n",
        "    \n",
        "    "
      ],
      "execution_count": 0,
      "outputs": []
    },
    {
      "metadata": {
        "id": "AAHuxadJjrf3",
        "colab_type": "code",
        "outputId": "8503b1d3-711c-4caf-a02f-e07e194f2bb0",
        "colab": {
          "base_uri": "https://localhost:8080/",
          "height": 53
        }
      },
      "cell_type": "code",
      "source": [
        "data = np.array(data, dtype=\"float\") / 255.0\n",
        "labels = np.array(np.expand_dims(labels, axis=1))\n",
        "\n",
        "print(data.shape)\n",
        "print(labels.shape)"
      ],
      "execution_count": 5,
      "outputs": [
        {
          "output_type": "stream",
          "text": [
            "(1482, 128, 128, 3)\n",
            "(1482, 1)\n"
          ],
          "name": "stdout"
        }
      ]
    },
    {
      "metadata": {
        "id": "eG08FQYBlJve",
        "colab_type": "code",
        "outputId": "7c566dc1-bb1c-4e2a-fae0-7153c4aefbdd",
        "colab": {
          "base_uri": "https://localhost:8080/",
          "height": 35
        }
      },
      "cell_type": "code",
      "source": [
        "lb=LabelBinarizer().fit(labels)\n",
        "labels=lb.transform(labels)\n",
        "print(labels.shape)"
      ],
      "execution_count": 6,
      "outputs": [
        {
          "output_type": "stream",
          "text": [
            "(1482, 1)\n"
          ],
          "name": "stdout"
        }
      ]
    },
    {
      "metadata": {
        "id": "4T_3A0qSlopy",
        "colab_type": "code",
        "colab": {}
      },
      "cell_type": "code",
      "source": [
        "X_train,X_test,y_train,y_test=train_test_split(data,labels,test_size=0.2,random_state=109)"
      ],
      "execution_count": 0,
      "outputs": []
    },
    {
      "metadata": {
        "id": "xdKzIwUMlsaK",
        "colab_type": "code",
        "outputId": "972b0d54-728f-4809-ad5f-92327be6fb2c",
        "colab": {
          "base_uri": "https://localhost:8080/",
          "height": 53
        }
      },
      "cell_type": "code",
      "source": [
        "print(X_train.shape)\n",
        "print(X_test.shape)"
      ],
      "execution_count": 8,
      "outputs": [
        {
          "output_type": "stream",
          "text": [
            "(1185, 128, 128, 3)\n",
            "(297, 128, 128, 3)\n"
          ],
          "name": "stdout"
        }
      ]
    },
    {
      "metadata": {
        "id": "Hdqf8Y3SlvBQ",
        "colab_type": "code",
        "outputId": "47dc0d06-2bee-4e95-8e1b-c26997ac326a",
        "colab": {
          "base_uri": "https://localhost:8080/",
          "height": 624
        }
      },
      "cell_type": "code",
      "source": [
        "model = Sequential()\n",
        "model.add(Conv2D(64, (3, 3), activation='relu', padding='same', input_shape=(128,128,3)))\n",
        "model.add(Conv2D(64, (3, 3), activation='relu', padding='same'))\n",
        "model.add(MaxPooling2D((2, 2), strides=(2, 2)))\n",
        "\n",
        "    # Block 2\n",
        "model.add(Conv2D(128, (3, 3), activation='relu', padding='same'))\n",
        "\n",
        "model.add(MaxPooling2D((2, 2), strides=(2, 2)))\n",
        "\n",
        "    # Block 3\n",
        "model.add(Conv2D(256, (3, 3), activation='relu', padding='same'))\n",
        "\n",
        "model.add(MaxPooling2D((2, 2), strides=(2, 2)))\n",
        "\n",
        "    # Block 4\n",
        "\n",
        "model.add(MaxPooling2D((2, 2), strides=(2, 2)))\n",
        "\n",
        "    # Block 5\n",
        "model.add(Conv2D(512, (3, 3), activation='relu', padding='same'))\n",
        "\n",
        "model.add(MaxPooling2D((2, 2), strides=(2, 2)))\n",
        "  \n",
        "model.add(Flatten())\n",
        "model.add(Dense(256, activation='tanh'))\n",
        "model.add(Dense(2, activation='softmax'))\n",
        "model.compile(loss='sparse_categorical_crossentropy',\n",
        "              optimizer='Adam',\n",
        "              metrics=['accuracy'])\n",
        "print(model.summary())\n",
        "  "
      ],
      "execution_count": 9,
      "outputs": [
        {
          "output_type": "stream",
          "text": [
            "_________________________________________________________________\n",
            "Layer (type)                 Output Shape              Param #   \n",
            "=================================================================\n",
            "conv2d_1 (Conv2D)            (None, 128, 128, 64)      1792      \n",
            "_________________________________________________________________\n",
            "conv2d_2 (Conv2D)            (None, 128, 128, 64)      36928     \n",
            "_________________________________________________________________\n",
            "max_pooling2d_1 (MaxPooling2 (None, 64, 64, 64)        0         \n",
            "_________________________________________________________________\n",
            "conv2d_3 (Conv2D)            (None, 64, 64, 128)       73856     \n",
            "_________________________________________________________________\n",
            "max_pooling2d_2 (MaxPooling2 (None, 32, 32, 128)       0         \n",
            "_________________________________________________________________\n",
            "conv2d_4 (Conv2D)            (None, 32, 32, 256)       295168    \n",
            "_________________________________________________________________\n",
            "max_pooling2d_3 (MaxPooling2 (None, 16, 16, 256)       0         \n",
            "_________________________________________________________________\n",
            "max_pooling2d_4 (MaxPooling2 (None, 8, 8, 256)         0         \n",
            "_________________________________________________________________\n",
            "conv2d_5 (Conv2D)            (None, 8, 8, 512)         1180160   \n",
            "_________________________________________________________________\n",
            "max_pooling2d_5 (MaxPooling2 (None, 4, 4, 512)         0         \n",
            "_________________________________________________________________\n",
            "flatten_1 (Flatten)          (None, 8192)              0         \n",
            "_________________________________________________________________\n",
            "dense_1 (Dense)              (None, 256)               2097408   \n",
            "_________________________________________________________________\n",
            "dense_2 (Dense)              (None, 2)                 514       \n",
            "=================================================================\n",
            "Total params: 3,685,826\n",
            "Trainable params: 3,685,826\n",
            "Non-trainable params: 0\n",
            "_________________________________________________________________\n",
            "None\n"
          ],
          "name": "stdout"
        }
      ]
    },
    {
      "metadata": {
        "id": "EaPEnO5ys_G6",
        "colab_type": "code",
        "colab": {}
      },
      "cell_type": "code",
      "source": [
        "batch_size=64\n",
        "epochss=20\n"
      ],
      "execution_count": 0,
      "outputs": []
    },
    {
      "metadata": {
        "id": "OQkjshZztJlq",
        "colab_type": "code",
        "outputId": "a3fa1d91-b7a1-46dc-d678-f2a5ee942951",
        "colab": {
          "base_uri": "https://localhost:8080/",
          "height": 767
        }
      },
      "cell_type": "code",
      "source": [
        "model.fit(X_train,y_train,validation_data=(X_test,y_test),batch_size=batch_size,epochs=epochss)\n"
      ],
      "execution_count": 11,
      "outputs": [
        {
          "output_type": "stream",
          "text": [
            "Train on 1185 samples, validate on 297 samples\n",
            "Epoch 1/20\n",
            "1185/1185 [==============================] - 14s 12ms/step - loss: 0.8780 - acc: 0.4886 - val_loss: 0.6933 - val_acc: 0.4949\n",
            "Epoch 2/20\n",
            "1185/1185 [==============================] - 5s 4ms/step - loss: 0.6930 - acc: 0.5308 - val_loss: 0.6906 - val_acc: 0.5152\n",
            "Epoch 3/20\n",
            "1185/1185 [==============================] - 5s 4ms/step - loss: 0.6938 - acc: 0.5063 - val_loss: 0.6922 - val_acc: 0.4949\n",
            "Epoch 4/20\n",
            "1185/1185 [==============================] - 5s 4ms/step - loss: 0.6803 - acc: 0.5629 - val_loss: 0.6599 - val_acc: 0.5421\n",
            "Epoch 5/20\n",
            "1185/1185 [==============================] - 5s 4ms/step - loss: 0.6265 - acc: 0.6717 - val_loss: 0.5018 - val_acc: 0.8350\n",
            "Epoch 6/20\n",
            "1185/1185 [==============================] - 5s 4ms/step - loss: 0.3745 - acc: 0.8456 - val_loss: 0.2118 - val_acc: 0.9226\n",
            "Epoch 7/20\n",
            "1185/1185 [==============================] - 5s 4ms/step - loss: 0.3147 - acc: 0.8624 - val_loss: 0.3262 - val_acc: 0.8552\n",
            "Epoch 8/20\n",
            "1185/1185 [==============================] - 5s 4ms/step - loss: 0.2810 - acc: 0.8869 - val_loss: 0.4596 - val_acc: 0.7980\n",
            "Epoch 9/20\n",
            "1185/1185 [==============================] - 5s 4ms/step - loss: 0.2469 - acc: 0.8895 - val_loss: 0.1539 - val_acc: 0.9327\n",
            "Epoch 10/20\n",
            "1185/1185 [==============================] - 5s 4ms/step - loss: 0.2025 - acc: 0.9063 - val_loss: 0.1498 - val_acc: 0.9428\n",
            "Epoch 11/20\n",
            "1185/1185 [==============================] - 5s 4ms/step - loss: 0.1611 - acc: 0.9367 - val_loss: 0.1251 - val_acc: 0.9495\n",
            "Epoch 12/20\n",
            "1185/1185 [==============================] - 5s 4ms/step - loss: 0.1874 - acc: 0.9283 - val_loss: 0.1934 - val_acc: 0.9192\n",
            "Epoch 13/20\n",
            "1185/1185 [==============================] - 5s 4ms/step - loss: 0.1468 - acc: 0.9468 - val_loss: 0.1317 - val_acc: 0.9529\n",
            "Epoch 14/20\n",
            "1185/1185 [==============================] - 5s 4ms/step - loss: 0.1025 - acc: 0.9595 - val_loss: 0.1079 - val_acc: 0.9529\n",
            "Epoch 15/20\n",
            "1185/1185 [==============================] - 5s 4ms/step - loss: 0.0797 - acc: 0.9713 - val_loss: 0.1559 - val_acc: 0.9226\n",
            "Epoch 16/20\n",
            "1185/1185 [==============================] - 5s 4ms/step - loss: 0.0664 - acc: 0.9772 - val_loss: 0.1599 - val_acc: 0.9394\n",
            "Epoch 17/20\n",
            "1185/1185 [==============================] - 5s 4ms/step - loss: 0.0367 - acc: 0.9882 - val_loss: 0.2224 - val_acc: 0.9057\n",
            "Epoch 18/20\n",
            "1185/1185 [==============================] - 5s 4ms/step - loss: 0.0350 - acc: 0.9865 - val_loss: 0.1531 - val_acc: 0.9529\n",
            "Epoch 19/20\n",
            "1185/1185 [==============================] - 5s 4ms/step - loss: 0.0199 - acc: 0.9949 - val_loss: 0.1274 - val_acc: 0.9428\n",
            "Epoch 20/20\n",
            "1185/1185 [==============================] - 5s 4ms/step - loss: 0.0406 - acc: 0.9831 - val_loss: 0.1396 - val_acc: 0.9529\n"
          ],
          "name": "stdout"
        },
        {
          "output_type": "execute_result",
          "data": {
            "text/plain": [
              "<keras.callbacks.History at 0x7fdf896abba8>"
            ]
          },
          "metadata": {
            "tags": []
          },
          "execution_count": 11
        }
      ]
    },
    {
      "metadata": {
        "id": "IKieYc2PtOi1",
        "colab_type": "code",
        "colab": {
          "base_uri": "https://localhost:8080/",
          "height": 53
        },
        "outputId": "a32585cb-a770-4b3a-cca3-1bd54dfd9bea"
      },
      "cell_type": "code",
      "source": [
        "model_json=model.to_json()\n",
        "with open(\"model.json\",\"w\") as json_file:\n",
        "     json_file.write(model_json)\n",
        "model.save_weights(\"model.h5\")\n",
        "print(\"saved model to disk\")\n",
        "json_file = open(\"model.json\", \"r\")\n",
        "loaded_model_json = json_file.read()\n",
        "json_file.close()\n",
        "loaded_model = model_from_json(loaded_model_json)\n",
        "# load weights into new model\n",
        "loaded_model.load_weights(\"model.h5\")\n",
        "print(\"Loaded model from disk\")\n",
        "  \n"
      ],
      "execution_count": 12,
      "outputs": [
        {
          "output_type": "stream",
          "text": [
            "saved model to disk\n",
            "Loaded model from disk\n"
          ],
          "name": "stdout"
        }
      ]
    },
    {
      "metadata": {
        "id": "QFg4BFA0Is07",
        "colab_type": "code",
        "colab": {}
      },
      "cell_type": "code",
      "source": [
        "from helpers import resize_to_fit\n",
        "path='/content/BCDCNN/testdata'\n",
        "data1=[]\n",
        "labels1=[]\n",
        "for image_file in paths.list_images(path):\n",
        "    image=cv2.imread(image_file)\n",
        "    image=resize_to_fit(image,128,128)\n",
        "    label=image_file.split(os.path.sep)[-2]\n",
        "    data1.append(image)\n",
        "    labels1.append(label)\n",
        "    \n",
        "    "
      ],
      "execution_count": 0,
      "outputs": []
    },
    {
      "metadata": {
        "id": "q5Xxwe-jIzeT",
        "colab_type": "code",
        "colab": {
          "base_uri": "https://localhost:8080/",
          "height": 53
        },
        "outputId": "6e6a098b-49a1-486d-a44d-6d1ca7990a7c"
      },
      "cell_type": "code",
      "source": [
        "data1 = np.array(data1, dtype=\"float\") / 255.0\n",
        "labels1 = np.array(np.expand_dims(labels1, axis=1))\n",
        "\n",
        "print(data1.shape)\n",
        "print(labels1.shape)"
      ],
      "execution_count": 14,
      "outputs": [
        {
          "output_type": "stream",
          "text": [
            "(98, 128, 128, 3)\n",
            "(98, 1)\n"
          ],
          "name": "stdout"
        }
      ]
    },
    {
      "metadata": {
        "id": "gPOCcCkJJdU5",
        "colab_type": "code",
        "colab": {
          "base_uri": "https://localhost:8080/",
          "height": 35
        },
        "outputId": "5a9f410b-b5b3-4e72-f02f-abc9aa7022dd"
      },
      "cell_type": "code",
      "source": [
        "lb=LabelBinarizer().fit(labels1)\n",
        "labels1=lb.transform(labels1)\n",
        "print(labels1.shape)"
      ],
      "execution_count": 15,
      "outputs": [
        {
          "output_type": "stream",
          "text": [
            "(98, 1)\n"
          ],
          "name": "stdout"
        }
      ]
    },
    {
      "metadata": {
        "id": "F7adl4AjveCg",
        "colab_type": "code",
        "colab": {
          "base_uri": "https://localhost:8080/",
          "height": 71
        },
        "outputId": "23c84b6c-f3b1-450c-d542-b1c21eab92e5"
      },
      "cell_type": "code",
      "source": [
        "scores = model.evaluate(data1, labels1, verbose=1)\n",
        "print('Test loss:', scores[0])\n",
        "print('Test accuracy:', scores[1])"
      ],
      "execution_count": 25,
      "outputs": [
        {
          "output_type": "stream",
          "text": [
            "98/98 [==============================] - 0s 2ms/step\n",
            "Test loss: 0.05439571678942563\n",
            "Test accuracy: 0.9795918367346939\n"
          ],
          "name": "stdout"
        }
      ]
    },
    {
      "metadata": {
        "id": "N3dh0NV_Sf9Q",
        "colab_type": "code",
        "colab": {}
      },
      "cell_type": "code",
      "source": [
        "y_preds=model.predict(data1)"
      ],
      "execution_count": 0,
      "outputs": []
    },
    {
      "metadata": {
        "id": "NWgCCM65k0hG",
        "colab_type": "code",
        "colab": {}
      },
      "cell_type": "code",
      "source": [
        "y_classes = y_preds.argmax(axis=-1)"
      ],
      "execution_count": 0,
      "outputs": []
    },
    {
      "metadata": {
        "id": "vyYIh0MVuAzq",
        "colab_type": "code",
        "colab": {
          "base_uri": "https://localhost:8080/",
          "height": 71
        },
        "outputId": "3cf9b256-a083-48e5-e418-1cc33cb20feb"
      },
      "cell_type": "code",
      "source": [
        "print(y_classes)"
      ],
      "execution_count": 28,
      "outputs": [
        {
          "output_type": "stream",
          "text": [
            "[0 0 0 0 0 0 0 0 0 0 0 0 0 0 0 1 0 0 1 0 0 0 0 0 0 0 0 0 0 0 0 0 0 0 0 0 0\n",
            " 0 0 0 0 0 0 0 0 0 0 0 0 1 1 1 1 1 1 1 1 1 1 1 1 1 1 1 1 1 1 1 1 1 1 1 1 1\n",
            " 1 1 1 1 1 1 1 1 1 1 1 1 1 1 1 1 1 1 1 1 1 1 1 1]\n"
          ],
          "name": "stdout"
        }
      ]
    },
    {
      "metadata": {
        "id": "bRMFpThwuF_X",
        "colab_type": "code",
        "colab": {
          "base_uri": "https://localhost:8080/",
          "height": 35
        },
        "outputId": "f181dfaf-a922-4993-c62b-2174ae14b74d"
      },
      "cell_type": "code",
      "source": [
        "y_classes1=[98]\n",
        "for i in range(len(y_classes)):\n",
        "  if y_classes[i]==0:\n",
        "    y_classes1.append(\"benign\")\n",
        "  elif y_classes[i]==1:\n",
        "    y_classes1.append(\"malignant\")\n",
        "print(y_classes1[50]) "
      ],
      "execution_count": 49,
      "outputs": [
        {
          "output_type": "stream",
          "text": [
            "malignant\n"
          ],
          "name": "stdout"
        }
      ]
    },
    {
      "metadata": {
        "id": "BYd-t9qGzqkp",
        "colab_type": "code",
        "colab": {
          "base_uri": "https://localhost:8080/",
          "height": 421
        },
        "outputId": "d91d917f-29d2-425f-d16a-c69c83e1334d"
      },
      "cell_type": "code",
      "source": [
        "import random\n",
        "j=random.randint(0,97)\n",
        "if labels1[j]==0:\n",
        "  a_class=\"benign\"\n",
        "else:\n",
        "    a_class=\"malignant\"\n",
        "plt.imshow(data1[j])\n",
        "print(\"-----actual class\")\n",
        "print(a_class)\n",
        "print(\"-----predicted label\")\n",
        "print(y_classes1[j])\n"
      ],
      "execution_count": 43,
      "outputs": [
        {
          "output_type": "stream",
          "text": [
            "-----actual class\n",
            "malignant\n",
            "-----predicted label\n",
            "malignant\n"
          ],
          "name": "stdout"
        },
        {
          "output_type": "display_data",
          "data": {
            "image/png": "[encoded data removed]",
            "text/plain": [
              "<matplotlib.figure.Figure at 0x7fdf3813b320>"
            ]
          },
          "metadata": {
            "tags": []
          }
        }
      ]
    },
    {
      "metadata": {
        "id": "Lw7yUbqq3VKv",
        "colab_type": "code",
        "colab": {
          "base_uri": "https://localhost:8080/",
          "height": 421
        },
        "outputId": "790bc6c0-8746-4016-9b7f-961d0263ca5b"
      },
      "cell_type": "code",
      "source": [
        "plt.imshow(data1[15])\n",
        "if labels1[15]==0:\n",
        "   a_class=\"benign\"\n",
        "else:\n",
        "  a_class=\"malignant\"\n",
        "print(\"----actual class-----\")\n",
        "print(a_class)\n",
        "print(\"----predicted class---\")\n",
        "print(y_classes1[16])"
      ],
      "execution_count": 50,
      "outputs": [
        {
          "output_type": "stream",
          "text": [
            "----actual class-----\n",
            "benign\n",
            "----predicted class---\n",
            "malignant\n"
          ],
          "name": "stdout"
        },
        {
          "output_type": "display_data",
          "data": {
            "image/png": "[encoded data removed]",
            "text/plain": [
              "<matplotlib.figure.Figure at 0x7fdf34793ac8>"
            ]
          },
          "metadata": {
            "tags": []
          }
        }
      ]
    },
    {
      "metadata": {
        "id": "13qH3Snt3srh",
        "colab_type": "code",
        "colab": {}
      },
      "cell_type": "code",
      "source": [
        ""
      ],
      "execution_count": 0,
      "outputs": []
    }
  ]
}